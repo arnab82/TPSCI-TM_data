{
 "cells": [
  {
   "cell_type": "code",
   "execution_count": 1,
   "id": "872297e4-9d52-4b71-981b-9849bfa969ff",
   "metadata": {},
   "outputs": [
    {
     "name": "stderr",
     "output_type": "stream",
     "text": [
      "/home/arnabbachhar/.local/lib/python3.10/site-packages/pyscf/dft/libxc.py:772: UserWarning: Since PySCF-2.3, B3LYP (and B3P86) are changed to the VWN-RPA variant, the same to the B3LYP functional in Gaussian and ORCA (issue 1480). To restore the VWN5 definition, you can put the setting \"B3LYP_WITH_VWN5 = True\" in pyscf_conf.py\n",
      "  warnings.warn('Since PySCF-2.3, B3LYP (and B3P86) are changed to the VWN-RPA variant, '\n"
     ]
    }
   ],
   "source": [
    "import pyscf\n",
    "import pyscf.tools\n",
    "\n",
    "from orbitalpartitioning import *\n",
    "from pyscf.gto.basis import parse_gaussian"
   ]
  },
  {
   "cell_type": "code",
   "execution_count": 2,
   "id": "38a92200-02bd-4e3d-8a8b-39cae17e095c",
   "metadata": {},
   "outputs": [
    {
     "name": "stdout",
     "output_type": "stream",
     "text": [
      "symmetry:  C1\n",
      "\n",
      "\n",
      "******** <class 'pyscf.scf.rohf.ROHF'> ********\n",
      "method = ROHF-RHF\n",
      "initial guess = sad\n",
      "damping factor = 0\n",
      "level_shift factor = 0\n",
      "DIIS = <class 'pyscf.scf.diis.CDIIS'>\n",
      "diis_start_cycle = 1\n",
      "diis_space = 8\n",
      "SCF conv_tol = 1e-08\n",
      "SCF conv_tol_grad = 1e-05\n",
      "SCF max_cycles = 200\n",
      "direct_scf = True\n",
      "direct_scf_tol = 1e-13\n",
      "chkfile to save SCF result = scf.fchk\n",
      "max_memory 4000 MB (current use 120 MB)\n",
      "num. doubly occ = 73  num. singly occ = 6\n"
     ]
    },
    {
     "name": "stdout",
     "output_type": "stream",
     "text": [
      "init E= -2718.11525129028\n",
      "  HOMO = -0.158590220336068  LUMO = -0.0717104772627195\n",
      "cycle= 1 E= -2716.63438860382  delta_E= 1.48  |g|= 1.19  |ddm|= 6.14\n",
      "  HOMO = -0.514647536895322  LUMO = -0.39819601906303\n",
      "cycle= 2 E= -2716.98174234152  delta_E= -0.347  |g|= 0.886  |ddm|=  1.6\n",
      "  HOMO = -0.575776682350168  LUMO = -0.400390268153004\n",
      "cycle= 3 E= -2717.15374399854  delta_E= -0.172  |g|= 0.324  |ddm|= 0.777\n",
      "  HOMO = -0.655156362937324  LUMO = -0.395304783752335\n",
      "cycle= 4 E= -2717.17744000161  delta_E= -0.0237  |g|= 0.139  |ddm|= 0.291\n",
      "  HOMO = -0.62548514882488  LUMO = -0.393533410728714\n",
      "cycle= 5 E= -2717.18205788183  delta_E= -0.00462  |g|= 0.0286  |ddm|= 0.122\n",
      "  HOMO = -0.630838779489514  LUMO = -0.393501082604546\n",
      "cycle= 6 E= -2717.18228615452  delta_E= -0.000228  |g|= 0.00631  |ddm|= 0.0369\n",
      "  HOMO = -0.630756687813526  LUMO = -0.393523763164383\n",
      "cycle= 7 E= -2717.1823044911  delta_E= -1.83e-05  |g|= 0.00248  |ddm|= 0.0174\n",
      "  HOMO = -0.63125701315573  LUMO = -0.393577346610393\n",
      "cycle= 8 E= -2717.1823077738  delta_E= -3.28e-06  |g|= 0.00088  |ddm|= 0.00932\n",
      "  HOMO = -0.631330653689587  LUMO = -0.393561613643404\n",
      "cycle= 9 E= -2717.1823082325  delta_E= -4.59e-07  |g|= 0.000312  |ddm|= 0.00328\n",
      "  HOMO = -0.631318168419419  LUMO = -0.393556970769859\n",
      "cycle= 10 E= -2717.18230831529  delta_E= -8.28e-08  |g|= 0.000104  |ddm|= 0.00126\n",
      "  HOMO = -0.631322895827103  LUMO = -0.39355683242872\n",
      "cycle= 11 E= -2717.18230832496  delta_E= -9.66e-09  |g|= 5.24e-05  |ddm|= 0.000482\n",
      "  HOMO = -0.631321924218515  LUMO = -0.393556800473686\n",
      "cycle= 12 E= -2717.18230832802  delta_E= -3.06e-09  |g|= 1.87e-05  |ddm|= 0.000201\n",
      "  HOMO = -0.631317402973345  LUMO = -0.393556393511235\n",
      "cycle= 13 E= -2717.18230832839  delta_E= -3.69e-10  |g|= 1.13e-05  |ddm|= 7.01e-05\n",
      "  HOMO = -0.631318672998026  LUMO = -0.39355640553718\n",
      "cycle= 14 E= -2717.18230832854  delta_E= -1.56e-10  |g|= 6.6e-06  |ddm|= 3.66e-05\n",
      "  HOMO = -0.631318681592144  LUMO = -0.393556427900708\n",
      "Extra cycle  E= -2717.18230832862  delta_E= -8.09e-11  |g|= 5.77e-06  |ddm|= 2.38e-05\n",
      "converged SCF energy = -2717.18230832862\n",
      " Hartree-Fock Energy: -2717.18230833\n"
     ]
    }
   ],
   "source": [
    "molecule = \"\"\"\n",
    " Cr 0.82627800 -1.30446200 -0.96524300\n",
    " Cr -0.82625500 1.30449100 0.96521400\n",
    " O 0.00001100 0.00001500 -0.00001400\n",
    " N 2.71379100 -0.58517300 -0.32156700\n",
    " H 3.52017600 -0.87998300 -0.88101600\n",
    " H 2.98302700 -0.84252100 0.62848200\n",
    " H 2.75216700 0.43162900 -0.34666000\n",
    " N 0.90611400 -0.01191500 -2.64373800\n",
    " H 0.15767300 0.67336300 -2.59732700\n",
    " H 0.79520000 -0.45289000 -3.56150100\n",
    " H 1.76766300 0.52845600 -2.74461100\n",
    " N 0.74644200 -2.59700900 0.71325300\n",
    " H 0.86887400 -3.59499400 0.51496700\n",
    " H -0.15371900 -2.54555600 1.18538900\n",
    " H 1.44183900 -2.41670700 1.43797600\n",
    " N -1.06123500 -2.02375100 -1.60891800\n",
    " H -1.51982700 -2.67507800 -0.96956400\n",
    " H -1.07760500 -2.52098500 -2.50431600\n",
    " H -1.71705200 -1.25706600 -1.73635500\n",
    " N 1.78821400 -2.82312800 -2.08895700\n",
    " H 2.20721200 -2.51946500 -2.97231100\n",
    " H 1.19687500 -3.61071400 -2.36865500\n",
    " H 2.56853800 -3.28036700 -1.60828700\n",
    " N -2.71376800 0.58520300 0.32153900\n",
    " H -2.72742600 -0.43151600 0.28926300\n",
    " H -3.01495100 0.88961900 -0.60504900\n",
    " H -3.51124000 0.82996900 0.91689300\n",
    " N -0.90609100 0.01194400 2.64371000\n",
    " H -0.86251400 0.45862400 3.56440800\n",
    " H -0.11862500 -0.63055500 2.63771800\n",
    " H -1.73984000 -0.57546100 2.70589400\n",
    " N 1.06125800 2.02378000 1.60888900\n",
    " H 1.08580100 2.47872200 2.52630400\n",
    " H 1.50134100 2.71049000 0.99382500\n",
    " H 1.72819800 1.26071800 1.68834600\n",
    " N -0.74641900 2.59703800 -0.71328200\n",
    " H -0.92607700 3.58837700 -0.52509900\n",
    " H -1.40673500 2.37764300 -1.45939400\n",
    " H 0.17080800 2.59240800 -1.15542700\n",
    " N -1.78819100 2.82315700 2.08892800\n",
    " H -1.19783000 3.61531400 2.35756800\n",
    " H -2.19798000 2.52398300 2.97800300\n",
    " H -2.57540900 3.27269300 1.61233200\n",
    "\"\"\"\n",
    "\n",
    "# basis = \"def2-svp\"\n",
    "basis = {\n",
    "        'H' : parse_gaussian.load('ano-rcc-vdzp.gbs', 'H'),\n",
    "        'N' : parse_gaussian.load('ano-rcc-vdzp.gbs','N'),\n",
    "        'O' : parse_gaussian.load('ano-rcc-vdzp.gbs','O'),\n",
    "        'Cr' : parse_gaussian.load('ano-rcc-vdzp.gbs','Cr')\n",
    "    }\n",
    "pymol = pyscf.gto.Mole(\n",
    "        atom    =   molecule,\n",
    "        symmetry=   True,\n",
    "        spin    =   6, # number of unpaired electrons\n",
    "        charge  =   4,\n",
    "        basis   =   basis)\n",
    "\n",
    "\n",
    "pymol.build()\n",
    "print(\"symmetry: \",pymol.topgroup)\n",
    "# mf = pyscf.scf.UHF(pymol).x2c()\n",
    "mf = pyscf.scf.ROHF(pymol)\n",
    "mf.verbose = 4\n",
    "mf.conv_tol = 1e-8\n",
    "mf.conv_tol_grad = 1e-5\n",
    "mf.chkfile = \"scf.fchk\"\n",
    "mf.init_guess = \"sad\"\n",
    "\n",
    "mf.run(max_cycle=200)\n",
    "\n",
    "print(\" Hartree-Fock Energy: %12.8f\" % mf.e_tot)\n",
    "# mf.analyze()\n",
    "\n",
    "# Get data\n",
    "F = mf.get_fock()\n",
    "C = mf.mo_coeff\n",
    "S = mf.get_ovlp()\n",
    "ndocc = mf.nelec[1]\n",
    "nsing = mf.nelec[0] - ndocc\n",
    "nvirt = mf.mol.nao - ndocc - nsing\n",
    "\n",
    "# Just use alpha orbitals\n",
    "Cdocc = mf.mo_coeff[:,0:ndocc]\n",
    "Csing = mf.mo_coeff[:,ndocc:ndocc+nsing]\n",
    "Cvirt = mf.mo_coeff[:,ndocc+nsing:ndocc+nsing+nvirt]\n",
    "\n",
    "nbas = Cdocc.shape[0]"
   ]
  },
  {
   "attachments": {},
   "cell_type": "markdown",
   "id": "926bfd1b",
   "metadata": {},
   "source": [
    "# Define Fragments by AOs"
   ]
  },
  {
   "cell_type": "code",
   "execution_count": 3,
   "id": "45633353-ae0c-47b2-ae89-8d9a66039cd9",
   "metadata": {
    "tags": []
   },
   "outputs": [
    {
     "name": "stdout",
     "output_type": "stream",
     "text": [
      "[[17, 18, 19, 20, 21, 22, 23, 24, 25, 26], [71, 72, 73, 74, 75, 76], [51, 52, 53, 54, 55, 56, 57, 58, 59, 60]]\n"
     ]
    }
   ],
   "source": [
    "# Find AO's corresponding to atoms\n",
    "full = []\n",
    "frag1 = []\n",
    "frag2 = []\n",
    "frag3 = []\n",
    "for ao_idx,ao in enumerate(mf.mol.ao_labels(fmt=False)):\n",
    "    if ao[0] == 0:\n",
    "        if ao[2] in (\"3d\",\"4d\"):\n",
    "            frag1.append(ao_idx)\n",
    "            full.append(ao_idx)\n",
    "    elif ao[0] == 2:\n",
    "        if ao[2] in (\"2p\",\"3p\"):\n",
    "            frag2.append(ao_idx)\n",
    "            full.append(ao_idx)\n",
    "    elif ao[0] == 1:\n",
    "        if ao[2] in (\"3d\",\"4d\"):\n",
    "            frag3.append(ao_idx)\n",
    "            full.append(ao_idx)\n",
    "\n",
    "\n",
    "frags = [frag1, frag2, frag3]\n",
    "print(frags)\n"
   ]
  },
  {
   "attachments": {},
   "cell_type": "markdown",
   "id": "3efb9920",
   "metadata": {},
   "source": [
    "# Define Projectors\n",
    "We can choose to project onto the non-orthogonal AOs, or onto the symmetrically orthogonalized AOs."
   ]
  },
  {
   "cell_type": "code",
   "execution_count": 4,
   "id": "398f646b",
   "metadata": {},
   "outputs": [],
   "source": [
    "# Define projectors\n",
    "import numpy as np\n",
    "import scipy\n",
    "X = np.eye(nbas) \n",
    "X = scipy.linalg.sqrtm(S)\n",
    "Pfull = X[:,full]  # non-orthogonal\n",
    "Pf = []\n",
    "for f in frags:\n",
    "    Pf.append(X[:,f])\n"
   ]
  },
  {
   "attachments": {},
   "cell_type": "markdown",
   "id": "841d2ce9",
   "metadata": {},
   "source": [
    "# Project MOs onto all fragments\n",
    "For each orbital block (Docc, Sing, Virt), project each subspace onto the full list of fragment AOs. This will determine our full active space."
   ]
  },
  {
   "cell_type": "code",
   "execution_count": 5,
   "id": "b5553884",
   "metadata": {},
   "outputs": [
    {
     "name": "stdout",
     "output_type": "stream",
     "text": [
      " Partition  372 orbitals into a total of   26 orbitals\n",
      "            Index   Sing. Val. Space       \n",
      "                0   0.97772227            1*\n",
      "                1   0.97769982            1*\n",
      "                2   0.96778439            1*\n",
      "                3   0.96707665            1*\n",
      "                4   0.96607012            2*\n",
      "                5   0.96535653            1*\n",
      "                6   0.96533672            1*\n",
      "                7   0.94828643            2*\n",
      "                8   0.94419760            2*\n",
      "                9   0.93635962            2*\n",
      "               10   0.88361532            0*\n",
      "               11   0.88348021            0*\n",
      "               12   0.87569191            0*\n",
      "               13   0.68779135            2*\n",
      "               14   0.68636124            2*\n",
      "               15   0.67774029            2*\n",
      "               16   0.67580616            2*\n",
      "               17   0.65549752            0*\n",
      "               18   0.63785493            2*\n",
      "               19   0.63484447            0*\n",
      "               20   0.62104925            0*\n",
      "               21   0.60177342            0*\n",
      "               22   0.59978250            2*\n",
      "               23   0.54009189            2*\n",
      "               24   0.48689353            2*\n",
      "               25   0.48646409            2*\n",
      "               26   0.42625605            0\n",
      "               27   0.42515067            0\n",
      "               28   0.39622465            0\n",
      "               29   0.38609858            0\n",
      "               30   0.38395104            0\n",
      "               31   0.38187029            0\n",
      "               32   0.38026893            0\n",
      "               33   0.34225876            2\n",
      "               34   0.34116894            2\n",
      "               35   0.33770706            2\n",
      "               36   0.30297246            0\n",
      "               37   0.30194100            0\n",
      "               38   0.29268604            2\n",
      "               39   0.28447574            0\n",
      "               40   0.27373136            0\n",
      "               41   0.24428075            0\n",
      "               42   0.23023646            0\n",
      "               43   0.15303762            2\n",
      "               44   0.15286539            2\n",
      "               45   0.11564305            2\n",
      "               46   0.11446114            2\n",
      "               47   0.11074938            2\n",
      "               48   0.11070822            2\n",
      "               49   0.09529220            2\n",
      "               50   0.08720452            2\n",
      "               51   0.08705771            2\n",
      "               52   0.02602662            0\n",
      "               53   0.02600888            0\n",
      "               54   0.01948295            0\n",
      "               55   0.01946278            0\n",
      "               56   0.00191347            0\n",
      "               57   0.00120902            0\n"
     ]
    }
   ],
   "source": [
    "(Oact, Sact, Vact), (Cenv, Cerr, _) = svd_subspace_partitioning((Cdocc, Csing, Cvirt), Pfull, S)\n",
    "assert(Cerr.shape[1] == 0)\n",
    "Cact = np.hstack((Oact,Vact))"
   ]
  },
  {
   "attachments": {},
   "cell_type": "markdown",
   "id": "d58103c3",
   "metadata": {},
   "source": [
    "# Split active space into fragments"
   ]
  },
  {
   "cell_type": "code",
   "execution_count": 6,
   "id": "5f16720a",
   "metadata": {},
   "outputs": [
    {
     "name": "stdout",
     "output_type": "stream",
     "text": [
      "\n",
      " Fragment:  [17, 18, 19, 20, 21, 22, 23, 24, 25, 26]\n",
      " Partition   26 orbitals into a total of   10 orbitals\n",
      "            Index   Sing. Val. Space       \n",
      "                0   0.96743600            1*\n",
      "                1   0.95633099            1*\n",
      "                2   0.95625628            1*\n",
      "                3   0.93987021            2*\n",
      "                4   0.91541208            2*\n",
      "                5   0.61723099            2*\n",
      "                6   0.61700090            0*\n",
      "                7   0.60915130            0*\n",
      "                8   0.57316572            2*\n",
      "                9   0.57153229            2*\n",
      "               10   0.26809411            0\n",
      "               11   0.26692238            0\n",
      "               12   0.23151461            0\n",
      "               13   0.09465353            2\n",
      "               14   0.04864469            2\n",
      "               15   0.04853356            2\n",
      "               16   0.03384899            1\n",
      "               17   0.03370519            1\n",
      "               18   0.01100146            0\n",
      "               19   0.00460302            2\n",
      "               20   0.00330444            1\n",
      "               21   0.00233715            2\n",
      "               22   0.00069157            0\n",
      "\n",
      " Fragment:  [71, 72, 73, 74, 75, 76]\n",
      " Partition   26 orbitals into a total of    6 orbitals\n",
      "            Index   Sing. Val. Space       \n",
      "                0   0.87097487            0*\n",
      "                1   0.87093166            0*\n",
      "                2   0.84684942            0*\n",
      "                3   0.53403410            2*\n",
      "                4   0.53314249            2*\n",
      "                5   0.35791410            2*\n",
      "                6   0.16300588            1\n",
      "                7   0.16256513            1\n",
      "                8   0.11919466            2\n",
      "                9   0.02916469            0\n",
      "               10   0.01290629            2\n",
      "               11   0.01278534            2\n",
      "               12   0.00036686            0\n",
      "               13   0.00010940            1\n",
      "               14   0.00005075            0\n",
      "               15   0.00004643            1\n",
      "               16   0.00002110            1\n",
      "               17   0.00000435            1\n",
      "\n",
      " Fragment:  [51, 52, 53, 54, 55, 56, 57, 58, 59, 60]\n",
      " Partition   26 orbitals into a total of   10 orbitals\n",
      "            Index   Sing. Val. Space       \n",
      "                0   0.96743658            1*\n",
      "                1   0.95633454            1*\n",
      "                2   0.95624767            1*\n",
      "                3   0.93987983            2*\n",
      "                4   0.91540957            2*\n",
      "                5   0.61725177            2*\n",
      "                6   0.61699738            0*\n",
      "                7   0.60915365            0*\n",
      "                8   0.57329952            2*\n",
      "                9   0.57139306            2*\n",
      "               10   0.26815408            0\n",
      "               11   0.26692836            0\n",
      "               12   0.23152554            0\n",
      "               13   0.09465229            2\n",
      "               14   0.04860817            2\n",
      "               15   0.04856554            2\n",
      "               16   0.03382927            1\n",
      "               17   0.03372586            1\n",
      "               18   0.01099983            0\n",
      "               19   0.00460503            2\n",
      "               20   0.00330868            1\n",
      "               21   0.00234669            2\n",
      "               22   0.00070245            0\n",
      " init_fspace:  [(5, 2), (3, 3), (5, 2)]\n",
      " clusters   :  [[1, 2, 3, 4, 5, 6, 7, 8, 9, 10], [11, 12, 13, 14, 15, 16], [17, 18, 19, 20, 21, 22, 23, 24, 25, 26]]\n"
     ]
    }
   ],
   "source": [
    "# Project active orbitals onto fragments\n",
    "init_fspace = []\n",
    "clusters = []\n",
    "Cfrags = []\n",
    "orb_index = 1\n",
    "\n",
    "\n",
    "for fi,f in enumerate(frags):\n",
    "    print()\n",
    "    print(\" Fragment: \", f)\n",
    "    (Of, Sf, Vf), (_, _, _) = svd_subspace_partitioning((Oact, Sact, Vact), Pf[fi], S)\n",
    "    Cfrags.append(np.hstack((Of, Sf, Vf)))\n",
    "    ndocc_f = Of.shape[1]\n",
    "    init_fspace.append((ndocc_f+Sf.shape[1], ndocc_f))\n",
    "    nmof = Of.shape[1] + Sf.shape[1] + Vf.shape[1]\n",
    "    clusters.append(list(range(orb_index, orb_index+nmof)))\n",
    "    orb_index += nmof\n",
    "\n",
    "\n",
    "\n",
    "# Orthogonalize Fragment orbitals\n",
    "Cfrags = sym_ortho(Cfrags, S)\n",
    "\n",
    "Cact = np.hstack(Cfrags)\n",
    "\n",
    "# Write Molden files for visualization\n",
    "pyscf.tools.molden.from_mo(mf.mol, \"Pfull_ano-rcc-vdzp.molden\", Pfull)\n",
    "pyscf.tools.molden.from_mo(mf.mol, \"Cact_ano-rcc-vdzp.molden\", Cact)\n",
    "pyscf.tools.molden.from_mo(mf.mol, \"Cenv_ano-rcc-vdzp.molden\", Cenv)\n",
    "for i in range(len(frags)):\n",
    "    pyscf.tools.molden.from_mo(mf.mol, \"Cfrag_ano-rcc-vdzp%i.molden\"%i, Cfrags[i])\n",
    "\n",
    "print(\" init_fspace: \", init_fspace)\n",
    "print(\" clusters   : \", clusters)\n",
    "\n",
    "\n"
   ]
  },
  {
   "attachments": {},
   "cell_type": "markdown",
   "id": "91dc633f-ee84-4875-bfed-57c9c3d7d0a6",
   "metadata": {},
   "source": [
    "# Make Integrals"
   ]
  },
  {
   "cell_type": "code",
   "execution_count": 7,
   "id": "eb3ac06f-7e94-420f-9635-6f64f27c7f05",
   "metadata": {},
   "outputs": [
    {
     "name": "stdout",
     "output_type": "stream",
     "text": [
      "(372, 66)\n",
      "(372, 26)\n"
     ]
    },
    {
     "name": "stdout",
     "output_type": "stream",
     "text": [
      "(372, 372)\n"
     ]
    }
   ],
   "source": [
    "print(Cenv.shape)\n",
    "print(Cact.shape)\n",
    "d1_embed = 2 * Cenv @ Cenv.T\n",
    "\n",
    "h0 = pyscf.gto.mole.energy_nuc(mf.mol)\n",
    "h  = pyscf.scf.hf.get_hcore(mf.mol)\n",
    "j, k = pyscf.scf.hf.get_jk(mf.mol, d1_embed, hermi=1)\n",
    "\n",
    "print(h.shape)"
   ]
  },
  {
   "cell_type": "code",
   "execution_count": 8,
   "id": "130e7b7f-697e-4448-81f2-458931b4de8d",
   "metadata": {},
   "outputs": [],
   "source": [
    "h0 += np.trace(d1_embed @ ( h + .5*j - .25*k))\n",
    "\n",
    "h = Cact.T @ h @ Cact;\n",
    "j = Cact.T @ j @ Cact;\n",
    "k = Cact.T @ k @ Cact;"
   ]
  },
  {
   "cell_type": "code",
   "execution_count": 9,
   "id": "5047dda7-d4cc-4460-9f5a-0b34b7f16787",
   "metadata": {},
   "outputs": [],
   "source": [
    "nact = h.shape[0]\n",
    "\n",
    "h2 = pyscf.ao2mo.kernel(pymol, Cact, aosym=\"s4\", compact=False)\n",
    "h2.shape = (nact, nact, nact, nact)"
   ]
  },
  {
   "cell_type": "code",
   "execution_count": 10,
   "id": "eb9d44fb-b0ea-48c6-affd-481fc3405daa",
   "metadata": {},
   "outputs": [],
   "source": [
    "# The use of d1_embed only really makes sense if it has zero electrons in the\n",
    "# active space. Let's warn the user if that's not true\n",
    "\n",
    "S = pymol.intor(\"int1e_ovlp_sph\")\n",
    "n_act = np.trace(S @ d1_embed @ S @ Cact @ Cact.T)\n",
    "if abs(n_act) > 1e-8 == False:\n",
    "    print(n_act)\n",
    "    error(\" I found embedded electrons in the active space?!\")\n",
    "\n",
    "h1 = h + j - .5*k;\n"
   ]
  },
  {
   "cell_type": "code",
   "execution_count": 11,
   "id": "48548fca-bae3-46ea-94a6-fa73553eb91d",
   "metadata": {},
   "outputs": [],
   "source": [
    "np.save(\"ints_h0_cr2_ano-rcc-vdzp_26\", h0)\n",
    "np.save(\"ints_h1_cr2_ano-rcc-vdzp_26\", h1)\n",
    "np.save(\"ints_h2_cr2_ano-rcc-vdzp_26\", h2)\n",
    "np.save(\"mo_coeffs_cr2_ano-rcc-vdzp_26\", Cact)\n",
    "np.save(\"overlap_mat_cr2_ano-rcc-vdzp_26\", S)\n",
    "Pa = mf.make_rdm1()[0]\n",
    "Pb = mf.make_rdm1()[1]\n",
    "np.save(\"Pa_cr2_ano-rcc-vdzp_26\", Cact.T @ S @ Pa @ S @ Cact)\n",
    "np.save(\"Pb_cr2_ano-rcc-vdzp_26\", Cact.T @ S @ Pb @ S @ Cact)"
   ]
  },
  {
   "cell_type": "code",
   "execution_count": 27,
   "id": "0fa167fc",
   "metadata": {},
   "outputs": [],
   "source": [
    "import numpy as np\n",
    "Ccmf = np.load(\"Ccmf_26_cr2_double_shell.npy\")\n",
    "pyscf.tools.molden.from_mo(mf.mol, \"Ccmf_26_cr2_double_shell.molden\", Ccmf)\n"
   ]
  },
  {
   "cell_type": "code",
   "execution_count": null,
   "id": "a6989f29",
   "metadata": {},
   "outputs": [],
   "source": []
  }
 ],
 "metadata": {
  "kernelspec": {
   "display_name": "Python 3 (ipykernel)",
   "language": "python",
   "name": "python3"
  },
  "language_info": {
   "codemirror_mode": {
    "name": "ipython",
    "version": 3
   },
   "file_extension": ".py",
   "mimetype": "text/x-python",
   "name": "python",
   "nbconvert_exporter": "python",
   "pygments_lexer": "ipython3",
   "version": "3.10.12"
  }
 },
 "nbformat": 4,
 "nbformat_minor": 5
}
